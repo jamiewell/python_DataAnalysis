{
 "cells": [
  {
   "cell_type": "code",
   "execution_count": 1,
   "metadata": {
    "scrolled": true
   },
   "outputs": [
    {
     "data": {
      "text/plain": [
       "'C:\\\\Users\\\\SMART-02\\\\python_Session\\\\170518'"
      ]
     },
     "execution_count": 1,
     "metadata": {},
     "output_type": "execute_result"
    }
   ],
   "source": [
    "pwd"
   ]
  },
  {
   "cell_type": "code",
   "execution_count": 4,
   "metadata": {},
   "outputs": [],
   "source": [
    "# 라이브러리 불러오기 \n",
    "import numpy as np"
   ]
  },
  {
   "cell_type": "code",
   "execution_count": null,
   "metadata": {},
   "outputs": [],
   "source": [
    "#above #below\n",
    "# m ,y\n",
    "# shift + enter 실행\n",
    "# tab 사용가능 함수 목록\n",
    "# shift + tab 함수 정의 및 설명"
   ]
  },
  {
   "cell_type": "markdown",
   "metadata": {},
   "source": [
    "# 1.numpy 예제"
   ]
  },
  {
   "cell_type": "code",
   "execution_count": 24,
   "metadata": {},
   "outputs": [
    {
     "data": {
      "text/plain": [
       "3"
      ]
     },
     "execution_count": 24,
     "metadata": {},
     "output_type": "execute_result"
    }
   ],
   "source": [
    "y = 3\n",
    "y\n"
   ]
  },
  {
   "cell_type": "code",
   "execution_count": 25,
   "metadata": {},
   "outputs": [
    {
     "data": {
      "text/plain": [
       "[1, 2, 3]"
      ]
     },
     "execution_count": 25,
     "metadata": {},
     "output_type": "execute_result"
    }
   ],
   "source": [
    "\n",
    "x = [1,2,3]\n",
    "x\n"
   ]
  },
  {
   "cell_type": "code",
   "execution_count": 21,
   "metadata": {},
   "outputs": [
    {
     "data": {
      "text/plain": [
       "{'one', 'three', 'two'}"
      ]
     },
     "execution_count": 21,
     "metadata": {},
     "output_type": "execute_result"
    }
   ],
   "source": [
    "a = {\"one\",\"two\",\"three\"}\n",
    "a "
   ]
  },
  {
   "cell_type": "code",
   "execution_count": 22,
   "metadata": {},
   "outputs": [
    {
     "data": {
      "text/plain": [
       "(1, 2, 3)"
      ]
     },
     "execution_count": 22,
     "metadata": {},
     "output_type": "execute_result"
    }
   ],
   "source": [
    "z = (1,2,3)\n",
    "z"
   ]
  },
  {
   "cell_type": "code",
   "execution_count": 5,
   "metadata": {},
   "outputs": [],
   "source": [
    "##numpy 예제"
   ]
  },
  {
   "cell_type": "code",
   "execution_count": 8,
   "metadata": {},
   "outputs": [
    {
     "data": {
      "text/plain": [
       "array([[1., 2., 3.],\n",
       "       [4., 5., 6.]])"
      ]
     },
     "execution_count": 8,
     "metadata": {},
     "output_type": "execute_result"
    }
   ],
   "source": [
    "np.loadtxt('../dataset/test.txt', delimiter= ',')"
   ]
  },
  {
   "cell_type": "code",
   "execution_count": 9,
   "metadata": {},
   "outputs": [
    {
     "data": {
      "text/plain": [
       "<function numpy.lib.npyio.loadtxt>"
      ]
     },
     "execution_count": 9,
     "metadata": {},
     "output_type": "execute_result"
    }
   ],
   "source": [
    "np.loadtxt"
   ]
  },
  {
   "cell_type": "code",
   "execution_count": 13,
   "metadata": {},
   "outputs": [
    {
     "name": "stdout",
     "output_type": "stream",
     "text": [
      "[*********************100%***********************]  1 of 1 downloaded\n"
     ]
    },
    {
     "data": {
      "text/html": [
       "<div>\n",
       "<style scoped>\n",
       "    .dataframe tbody tr th:only-of-type {\n",
       "        vertical-align: middle;\n",
       "    }\n",
       "\n",
       "    .dataframe tbody tr th {\n",
       "        vertical-align: top;\n",
       "    }\n",
       "\n",
       "    .dataframe thead th {\n",
       "        text-align: right;\n",
       "    }\n",
       "</style>\n",
       "<table border=\"1\" class=\"dataframe\">\n",
       "  <thead>\n",
       "    <tr style=\"text-align: right;\">\n",
       "      <th></th>\n",
       "      <th>Open</th>\n",
       "      <th>High</th>\n",
       "      <th>Low</th>\n",
       "      <th>Close</th>\n",
       "      <th>Adj Close</th>\n",
       "      <th>Volume</th>\n",
       "    </tr>\n",
       "    <tr>\n",
       "      <th>Date</th>\n",
       "      <th></th>\n",
       "      <th></th>\n",
       "      <th></th>\n",
       "      <th></th>\n",
       "      <th></th>\n",
       "      <th></th>\n",
       "    </tr>\n",
       "  </thead>\n",
       "  <tbody>\n",
       "    <tr>\n",
       "      <th>2017-05-02</th>\n",
       "      <td>91500.0</td>\n",
       "      <td>92800.0</td>\n",
       "      <td>91000.0</td>\n",
       "      <td>92600.0</td>\n",
       "      <td>92491.226563</td>\n",
       "      <td>547726</td>\n",
       "    </tr>\n",
       "    <tr>\n",
       "      <th>2017-05-04</th>\n",
       "      <td>93800.0</td>\n",
       "      <td>94900.0</td>\n",
       "      <td>93200.0</td>\n",
       "      <td>94000.0</td>\n",
       "      <td>93889.585938</td>\n",
       "      <td>641966</td>\n",
       "    </tr>\n",
       "    <tr>\n",
       "      <th>2017-05-08</th>\n",
       "      <td>94200.0</td>\n",
       "      <td>95000.0</td>\n",
       "      <td>93400.0</td>\n",
       "      <td>95000.0</td>\n",
       "      <td>94888.414063</td>\n",
       "      <td>606290</td>\n",
       "    </tr>\n",
       "    <tr>\n",
       "      <th>2017-05-10</th>\n",
       "      <td>95800.0</td>\n",
       "      <td>95800.0</td>\n",
       "      <td>93600.0</td>\n",
       "      <td>94000.0</td>\n",
       "      <td>93889.585938</td>\n",
       "      <td>591255</td>\n",
       "    </tr>\n",
       "    <tr>\n",
       "      <th>2017-05-11</th>\n",
       "      <td>95800.0</td>\n",
       "      <td>96000.0</td>\n",
       "      <td>94800.0</td>\n",
       "      <td>95200.0</td>\n",
       "      <td>95088.171875</td>\n",
       "      <td>742959</td>\n",
       "    </tr>\n",
       "    <tr>\n",
       "      <th>2017-05-12</th>\n",
       "      <td>95700.0</td>\n",
       "      <td>95800.0</td>\n",
       "      <td>94500.0</td>\n",
       "      <td>95800.0</td>\n",
       "      <td>95687.468750</td>\n",
       "      <td>456417</td>\n",
       "    </tr>\n",
       "    <tr>\n",
       "      <th>2017-05-15</th>\n",
       "      <td>95800.0</td>\n",
       "      <td>96300.0</td>\n",
       "      <td>93500.0</td>\n",
       "      <td>93800.0</td>\n",
       "      <td>93689.820313</td>\n",
       "      <td>637232</td>\n",
       "    </tr>\n",
       "    <tr>\n",
       "      <th>2017-05-16</th>\n",
       "      <td>94500.0</td>\n",
       "      <td>95400.0</td>\n",
       "      <td>94100.0</td>\n",
       "      <td>95200.0</td>\n",
       "      <td>95088.171875</td>\n",
       "      <td>523113</td>\n",
       "    </tr>\n",
       "    <tr>\n",
       "      <th>2017-05-17</th>\n",
       "      <td>95500.0</td>\n",
       "      <td>95600.0</td>\n",
       "      <td>94200.0</td>\n",
       "      <td>95200.0</td>\n",
       "      <td>95088.171875</td>\n",
       "      <td>367716</td>\n",
       "    </tr>\n",
       "    <tr>\n",
       "      <th>2017-05-18</th>\n",
       "      <td>94000.0</td>\n",
       "      <td>95500.0</td>\n",
       "      <td>93800.0</td>\n",
       "      <td>95200.0</td>\n",
       "      <td>95088.171875</td>\n",
       "      <td>494101</td>\n",
       "    </tr>\n",
       "  </tbody>\n",
       "</table>\n",
       "</div>"
      ],
      "text/plain": [
       "               Open     High      Low    Close     Adj Close  Volume\n",
       "Date                                                                \n",
       "2017-05-02  91500.0  92800.0  91000.0  92600.0  92491.226563  547726\n",
       "2017-05-04  93800.0  94900.0  93200.0  94000.0  93889.585938  641966\n",
       "2017-05-08  94200.0  95000.0  93400.0  95000.0  94888.414063  606290\n",
       "2017-05-10  95800.0  95800.0  93600.0  94000.0  93889.585938  591255\n",
       "2017-05-11  95800.0  96000.0  94800.0  95200.0  95088.171875  742959\n",
       "2017-05-12  95700.0  95800.0  94500.0  95800.0  95687.468750  456417\n",
       "2017-05-15  95800.0  96300.0  93500.0  93800.0  93689.820313  637232\n",
       "2017-05-16  94500.0  95400.0  94100.0  95200.0  95088.171875  523113\n",
       "2017-05-17  95500.0  95600.0  94200.0  95200.0  95088.171875  367716\n",
       "2017-05-18  94000.0  95500.0  93800.0  95200.0  95088.171875  494101"
      ]
     },
     "execution_count": 13,
     "metadata": {},
     "output_type": "execute_result"
    }
   ],
   "source": [
    "import pandas_datareader.data as web\n",
    "import fix_yahoo_finance as yf\n",
    "yf.pdr_override()\n",
    "from datetime import date, timedelta\n",
    "import matplotlib.pyplot as plt\n",
    "import datetime\n",
    "\n",
    "start = datetime.datetime(2017,5,1)\n",
    "end = date.today()\n",
    "\n",
    "SEC = web.get_data_yahoo(\"035720.KS\", start, end)\n",
    "SEC.head(10)\n",
    "\n"
   ]
  },
  {
   "cell_type": "code",
   "execution_count": 52,
   "metadata": {},
   "outputs": [
    {
     "name": "stdout",
     "output_type": "stream",
     "text": [
      "[*********************100%***********************]  1 of 1 downloaded\n"
     ]
    },
    {
     "data": {
      "image/png": "[encoded data removed]",
      "text/plain": [
       "<matplotlib.figure.Figure at 0xe8ccac8>"
      ]
     },
     "metadata": {},
     "output_type": "display_data"
    }
   ],
   "source": [
    "import pandas_datareader.data as web\n",
    "import fix_yahoo_finance as yf\n",
    "yf.pdr_override()\n",
    "from datetime import date, timedelta\n",
    "import matplotlib.pyplot as plt\n",
    "import datetime\n",
    "\n",
    "start = datetime.datetime(2017,5,1)\n",
    "end = date.today()\n",
    "\n",
    "SEC = web.get_data_yahoo(\"005930.KS\", start, end)\n",
    "SEC['Close'].plot(style='--')\n",
    "plt.show(10)"
   ]
  },
  {
   "cell_type": "code",
   "execution_count": 11,
   "metadata": {},
   "outputs": [
    {
     "data": {
      "text/html": [
       "<div>\n",
       "<style scoped>\n",
       "    .dataframe tbody tr th:only-of-type {\n",
       "        vertical-align: middle;\n",
       "    }\n",
       "\n",
       "    .dataframe tbody tr th {\n",
       "        vertical-align: top;\n",
       "    }\n",
       "\n",
       "    .dataframe thead th {\n",
       "        text-align: right;\n",
       "    }\n",
       "</style>\n",
       "<table border=\"1\" class=\"dataframe\">\n",
       "  <thead>\n",
       "    <tr style=\"text-align: right;\">\n",
       "      <th></th>\n",
       "      <th>회사명</th>\n",
       "      <th>종목코드</th>\n",
       "      <th>업종</th>\n",
       "      <th>주요제품</th>\n",
       "      <th>상장일</th>\n",
       "      <th>결산월</th>\n",
       "      <th>대표자명</th>\n",
       "      <th>홈페이지</th>\n",
       "      <th>지역</th>\n",
       "    </tr>\n",
       "  </thead>\n",
       "  <tbody>\n",
       "    <tr>\n",
       "      <th>0</th>\n",
       "      <td>AJ렌터카</td>\n",
       "      <td>068400</td>\n",
       "      <td>운송장비 임대업</td>\n",
       "      <td>승용자동차 임대</td>\n",
       "      <td>2012-07-27</td>\n",
       "      <td>12월</td>\n",
       "      <td>홍성관</td>\n",
       "      <td>http://www.ajrentacar.co.kr</td>\n",
       "      <td>서울특별시</td>\n",
       "    </tr>\n",
       "    <tr>\n",
       "      <th>1</th>\n",
       "      <td>E1</td>\n",
       "      <td>017940</td>\n",
       "      <td>기타 전문 도매업</td>\n",
       "      <td>LPG(프로판,부탄가스),가스기기판매</td>\n",
       "      <td>1997-08-27</td>\n",
       "      <td>12월</td>\n",
       "      <td>구자용 사장</td>\n",
       "      <td>http://www.e1.co.kr</td>\n",
       "      <td>서울특별시</td>\n",
       "    </tr>\n",
       "    <tr>\n",
       "      <th>2</th>\n",
       "      <td>GKL</td>\n",
       "      <td>114090</td>\n",
       "      <td>유원지 및 기타 오락관련 서비스업</td>\n",
       "      <td>카지노</td>\n",
       "      <td>2009-11-19</td>\n",
       "      <td>12월</td>\n",
       "      <td>이기우</td>\n",
       "      <td>http://www.grandkorea.com</td>\n",
       "      <td>서울특별시</td>\n",
       "    </tr>\n",
       "    <tr>\n",
       "      <th>3</th>\n",
       "      <td>KR모터스</td>\n",
       "      <td>000040</td>\n",
       "      <td>그외 기타 운송장비 제조업</td>\n",
       "      <td>이륜차(오토바이) 제조,도매</td>\n",
       "      <td>1976-05-25</td>\n",
       "      <td>12월</td>\n",
       "      <td>성상용, 서정민 (각자 대표이사)</td>\n",
       "      <td>http://www.krmotors.com</td>\n",
       "      <td>경상남도</td>\n",
       "    </tr>\n",
       "    <tr>\n",
       "      <th>4</th>\n",
       "      <td>LG화학</td>\n",
       "      <td>051910</td>\n",
       "      <td>기초 화학물질 제조업</td>\n",
       "      <td>유화/기능/합성수지,재생섬유소,산업재,리튬이온전지,평광판,PVC 제조,도매</td>\n",
       "      <td>2001-04-25</td>\n",
       "      <td>12월</td>\n",
       "      <td>박진수</td>\n",
       "      <td>http://www.lgchem.com</td>\n",
       "      <td>서울특별시</td>\n",
       "    </tr>\n",
       "  </tbody>\n",
       "</table>\n",
       "</div>"
      ],
      "text/plain": [
       "     회사명    종목코드                  업종  \\\n",
       "0  AJ렌터카  068400            운송장비 임대업   \n",
       "1     E1  017940           기타 전문 도매업   \n",
       "2    GKL  114090  유원지 및 기타 오락관련 서비스업   \n",
       "3  KR모터스  000040      그외 기타 운송장비 제조업   \n",
       "4   LG화학  051910         기초 화학물질 제조업   \n",
       "\n",
       "                                        주요제품         상장일  결산월  \\\n",
       "0                                   승용자동차 임대  2012-07-27  12월   \n",
       "1                       LPG(프로판,부탄가스),가스기기판매  1997-08-27  12월   \n",
       "2                                        카지노  2009-11-19  12월   \n",
       "3                            이륜차(오토바이) 제조,도매  1976-05-25  12월   \n",
       "4  유화/기능/합성수지,재생섬유소,산업재,리튬이온전지,평광판,PVC 제조,도매  2001-04-25  12월   \n",
       "\n",
       "                 대표자명                         홈페이지     지역  \n",
       "0                 홍성관  http://www.ajrentacar.co.kr  서울특별시  \n",
       "1              구자용 사장          http://www.e1.co.kr  서울특별시  \n",
       "2                 이기우    http://www.grandkorea.com  서울특별시  \n",
       "3  성상용, 서정민 (각자 대표이사)      http://www.krmotors.com   경상남도  \n",
       "4                 박진수        http://www.lgchem.com  서울특별시  "
      ]
     },
     "execution_count": 11,
     "metadata": {},
     "output_type": "execute_result"
    }
   ],
   "source": [
    "import urllib.parse\n",
    "import pandas as pd\n",
    "\n",
    "MARKET_CODE_DICT = {\n",
    "    'kospi': 'stockMkt',\n",
    "    'kosdaq': 'kosdaqMkt',\n",
    "    'konex': 'konexMkt'\n",
    "}\n",
    "\n",
    "DOWNLOAD_URL = 'kind.krx.co.kr/corpgeneral/corpList.do'\n",
    "\n",
    "def download_stock_codes(market=None, delisted=False):\n",
    "    params = {'method': 'download'}\n",
    "\n",
    "    if market.lower() in MARKET_CODE_DICT:\n",
    "        params['marketType'] = MARKET_CODE_DICT[market]\n",
    "\n",
    "    if not delisted:\n",
    "        params['searchType'] = 13\n",
    "\n",
    "    params_string = urllib.parse.urlencode(params)\n",
    "    request_url = urllib.parse.urlunsplit(['http', DOWNLOAD_URL, '', params_string, ''])\n",
    "\n",
    "    df = pd.read_html(request_url, header=0)[0]\n",
    "    df.종목코드 = df.종목코드.map('{:06d}'.format)\n",
    "\n",
    "    return df\n",
    "\n",
    "\n",
    "kosdaq_stocks = download_stock_codes('kospi')\n",
    "kosdaq_stocks.head()\n",
    "kosdaq_stocks.to_csv(\"d:/kospi.csv\", index=False, encoding=\"utf-8-sig\")\n",
    "#encoding=\"utf-8-sig\"\n",
    "type(kosdaq_stocks)\n",
    "kosdaq_stocks.head(5)\n"
   ]
  },
  {
   "cell_type": "code",
   "execution_count": 26,
   "metadata": {},
   "outputs": [],
   "source": [
    "import matplotlib.pyplot as plt"
   ]
  },
  {
   "cell_type": "code",
   "execution_count": 27,
   "metadata": {},
   "outputs": [],
   "source": [
    "# 바로 차트가 시현되도록 설정\n",
    "%matplotlib inline"
   ]
  },
  {
   "cell_type": "code",
   "execution_count": 49,
   "metadata": {},
   "outputs": [
    {
     "name": "stderr",
     "output_type": "stream",
     "text": [
      "C:\\ProgramData\\Anaconda3\\lib\\site-packages\\ipykernel_launcher.py:5: RuntimeWarning: divide by zero encountered in power\n",
      "  \"\"\"\n"
     ]
    },
    {
     "data": {
      "text/plain": [
       "[<matplotlib.lines.Line2D at 0xe8a15c0>]"
      ]
     },
     "execution_count": 49,
     "metadata": {},
     "output_type": "execute_result"
    },
    {
     "data": {
      "image/png": "[encoded data removed]",
      "text/plain": [
       "<matplotlib.figure.Figure at 0xe85a630>"
      ]
     },
     "metadata": {},
     "output_type": "display_data"
    }
   ],
   "source": [
    "import numpy as np\n",
    "# 0,10 사이에 9개의 점을 생성\n",
    "x = np.linspace(0,10,9)\n",
    "# y = x 제곱\n",
    "y = x ** (-3)\n",
    "# 시각화\n",
    "plt.plot(x,y)"
   ]
  },
  {
   "cell_type": "code",
   "execution_count": 44,
   "metadata": {},
   "outputs": [
    {
     "name": "stdout",
     "output_type": "stream",
     "text": [
      "[ 0.    1.25  2.5   3.75  5.    6.25  7.5   8.75 10.  ]\n"
     ]
    }
   ],
   "source": [
    "print(x)"
   ]
  },
  {
   "cell_type": "code",
   "execution_count": null,
   "metadata": {},
   "outputs": [],
   "source": []
  }
 ],
 "metadata": {
  "kernelspec": {
   "display_name": "Python 3",
   "language": "python",
   "name": "python3"
  },
  "language_info": {
   "codemirror_mode": {
    "name": "ipython",
    "version": 3
   },
   "file_extension": ".py",
   "mimetype": "text/x-python",
   "name": "python",
   "nbconvert_exporter": "python",
   "pygments_lexer": "ipython3",
   "version": "3.6.4"
  }
 },
 "nbformat": 4,
 "nbformat_minor": 2
}
