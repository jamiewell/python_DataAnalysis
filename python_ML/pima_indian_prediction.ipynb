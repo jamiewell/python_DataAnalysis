{
  "nbformat": 4,
  "nbformat_minor": 0,
  "metadata": {
    "colab": {
      "name": "pima_indian_prediction.ipynb",
      "provenance": [],
      "collapsed_sections": [],
      "authorship_tag": "ABX9TyPZIVV7RsRbx6mVWgkT/o+k",
      "include_colab_link": true
    },
    "kernelspec": {
      "name": "python3",
      "display_name": "Python 3"
    }
  },
  "cells": [
    {
      "cell_type": "markdown",
      "metadata": {
        "id": "view-in-github",
        "colab_type": "text"
      },
      "source": [
        "<a href=\"https://colab.research.google.com/github/jamiewell/python_DataAnalysis/blob/master/python_ML/pima_indian_prediction.ipynb\" target=\"_parent\"><img src=\"https://colab.research.google.com/assets/colab-badge.svg\" alt=\"Open In Colab\"/></a>"
      ]
    },
    {
      "cell_type": "code",
      "metadata": {
        "id": "HTXxqe9SXq4O",
        "colab_type": "code",
        "colab": {}
      },
      "source": [
        "#!pip install kaggle"
      ],
      "execution_count": 0,
      "outputs": []
    },
    {
      "cell_type": "code",
      "metadata": {
        "id": "JrXLCCnFiDbR",
        "colab_type": "code",
        "colab": {}
      },
      "source": [
        "#from google.colab import files\n",
        "#files.upload()"
      ],
      "execution_count": 0,
      "outputs": []
    },
    {
      "cell_type": "code",
      "metadata": {
        "id": "eHF4AmMqiGbA",
        "colab_type": "code",
        "colab": {}
      },
      "source": [
        "#ls -1ha kaggle.json"
      ],
      "execution_count": 0,
      "outputs": []
    },
    {
      "cell_type": "code",
      "metadata": {
        "id": "NkAmjT1kiPNn",
        "colab_type": "code",
        "colab": {}
      },
      "source": [
        "#!mkdir -p ~/.kaggle"
      ],
      "execution_count": 0,
      "outputs": []
    },
    {
      "cell_type": "code",
      "metadata": {
        "id": "WMfWZlC2iRI5",
        "colab_type": "code",
        "colab": {}
      },
      "source": [
        "#!cp kaggle.json ~/.kaggle/"
      ],
      "execution_count": 0,
      "outputs": []
    },
    {
      "cell_type": "code",
      "metadata": {
        "id": "yJXfs77ZiU94",
        "colab_type": "code",
        "colab": {}
      },
      "source": [
        "#!chmod 600 ~/.kaggle/kaggle.json"
      ],
      "execution_count": 0,
      "outputs": []
    },
    {
      "cell_type": "code",
      "metadata": {
        "id": "alBWpbHfiZGt",
        "colab_type": "code",
        "colab": {}
      },
      "source": [
        "#!kaggle datasets download -d uciml/pima-indians-diabetes-database"
      ],
      "execution_count": 0,
      "outputs": []
    },
    {
      "cell_type": "code",
      "metadata": {
        "id": "JBPEU4t2jyyw",
        "colab_type": "code",
        "colab": {}
      },
      "source": [
        "#!ls"
      ],
      "execution_count": 0,
      "outputs": []
    },
    {
      "cell_type": "code",
      "metadata": {
        "id": "1uocNlzwj16y",
        "colab_type": "code",
        "colab": {}
      },
      "source": [
        "#!unzip pima-indians-diabetes-database.zip"
      ],
      "execution_count": 0,
      "outputs": []
    },
    {
      "cell_type": "code",
      "metadata": {
        "id": "5nGZFT2Jj_EA",
        "colab_type": "code",
        "colab": {}
      },
      "source": [
        "import numpy as np\n",
        "import pandas as pd\n",
        "import matplotlib.pyplot as plt\n",
        "%matplotlib inline\n",
        "\n",
        "from sklearn.model_selection import train_test_split\n",
        "from sklearn.metrics import accuracy_score, precision_score, recall_score, roc_auc_score\n",
        "from sklearn.metrics import f1_score, confusion_matrix, precision_recall_curve, roc_curve\n",
        "from sklearn.preprocessing import StandardScaler\n",
        "from sklearn.linear_model import LogisticRegression\n",
        "from sklearn.preprocessing import Binarizer\n"
      ],
      "execution_count": 0,
      "outputs": []
    },
    {
      "cell_type": "code",
      "metadata": {
        "id": "YIyEjp7uk5we",
        "colab_type": "code",
        "colab": {}
      },
      "source": [
        "diabetesData = pd.read_csv('diabetes.csv')"
      ],
      "execution_count": 0,
      "outputs": []
    },
    {
      "cell_type": "code",
      "metadata": {
        "id": "LwNoo9X1lbaC",
        "colab_type": "code",
        "colab": {
          "base_uri": "https://localhost:8080/",
          "height": 305
        },
        "outputId": "f4ef7410-33f6-4305-a777-ee6d28eb9dad"
      },
      "source": [
        "diabetesData.info()"
      ],
      "execution_count": 12,
      "outputs": [
        {
          "output_type": "stream",
          "text": [
            "<class 'pandas.core.frame.DataFrame'>\n",
            "RangeIndex: 768 entries, 0 to 767\n",
            "Data columns (total 9 columns):\n",
            " #   Column                    Non-Null Count  Dtype  \n",
            "---  ------                    --------------  -----  \n",
            " 0   Pregnancies               768 non-null    int64  \n",
            " 1   Glucose                   768 non-null    int64  \n",
            " 2   BloodPressure             768 non-null    int64  \n",
            " 3   SkinThickness             768 non-null    int64  \n",
            " 4   Insulin                   768 non-null    int64  \n",
            " 5   BMI                       768 non-null    float64\n",
            " 6   DiabetesPedigreeFunction  768 non-null    float64\n",
            " 7   Age                       768 non-null    int64  \n",
            " 8   Outcome                   768 non-null    int64  \n",
            "dtypes: float64(2), int64(7)\n",
            "memory usage: 54.1 KB\n"
          ],
          "name": "stdout"
        }
      ]
    },
    {
      "cell_type": "code",
      "metadata": {
        "id": "BCGDDROulBKu",
        "colab_type": "code",
        "colab": {
          "base_uri": "https://localhost:8080/",
          "height": 71
        },
        "outputId": "9c52f20f-d712-4a82-8b57-2c1f41a7c9c8"
      },
      "source": [
        "print(diabetesData['Outcome'].value_counts())"
      ],
      "execution_count": 13,
      "outputs": [
        {
          "output_type": "stream",
          "text": [
            "0    500\n",
            "1    268\n",
            "Name: Outcome, dtype: int64\n"
          ],
          "name": "stdout"
        }
      ]
    },
    {
      "cell_type": "code",
      "metadata": {
        "id": "dKujbtgIlHsJ",
        "colab_type": "code",
        "colab": {}
      },
      "source": [
        "def getClfEval(y_test, pred=None, pred_proba=None):\n",
        "  confusion = confusion_matrix(y_test, pred)\n",
        "  accuracy = accuracy_score(y_test, pred)\n",
        "  precision = precision_score(y_test, pred)\n",
        "  recall = recall_score(y_test, pred)\n",
        "  f1 = f1_score(y_test,pred)\n",
        "  # ROC-AUC 추가\n",
        "  roc_auc = roc_auc_score(y_test, pred_proba)\n",
        "  print('Confusion Matrix')\n",
        "  print(confusion)\n",
        "  #ROC-AUC print 추가\n",
        "  print('Accuracy: {0:.4f}, Precision: {1:.4f}, Recall: {2:.4f}, F1-score: {3:.4f}, AUC: {4:.4f}'\\\n",
        "        .format(accuracy, precision, recall, f1, roc_auc))"
      ],
      "execution_count": 0,
      "outputs": []
    },
    {
      "cell_type": "code",
      "metadata": {
        "id": "9jbwlhE3noI-",
        "colab_type": "code",
        "colab": {}
      },
      "source": [
        "def precisionRecallCurvePlot(y_test=None, pred_proba_c1=None):\n",
        "  precisions, recalls, thresholds = precision_recall_curve(y_test, pred_proba_c1)\n",
        "\n",
        "  plt.figure(figsize=(8,6))\n",
        "  threshold_boudary = thresholds.shape[0]\n",
        "  plt.plot(thresholds, precisions[0:threshold_boudary], linestyle='--', label='precision')\n",
        "  plt.plot(thresholds, recalls[0:threshold_boudary], label='recall')\n",
        "\n",
        "  start, end = plt.xlim()\n",
        "  plt.xticks(np.round(np.arange(start, end, 0.1),2))\n",
        "\n",
        "  plt.xlabel('Threshold value');\n",
        "  plt.ylabel('Precision and Recall value')\n",
        "  plt.legend();\n",
        "  plt.grid();\n",
        "  plt.show();"
      ],
      "execution_count": 0,
      "outputs": []
    },
    {
      "cell_type": "code",
      "metadata": {
        "id": "NgUZEETzpWFR",
        "colab_type": "code",
        "colab": {}
      },
      "source": [
        "# Train & Prediction : LogisticRegression"
      ],
      "execution_count": 0,
      "outputs": []
    },
    {
      "cell_type": "code",
      "metadata": {
        "id": "K8l5AUeArqdC",
        "colab_type": "code",
        "colab": {
          "base_uri": "https://localhost:8080/",
          "height": 233
        },
        "outputId": "31825f62-dc0f-49f2-e2e5-c57827070c9c"
      },
      "source": [
        "X = diabetesData.iloc[:,:-1]\n",
        "y = diabetesData.iloc[:,-1]\n",
        "\n",
        "X_train, X_test, y_train, y_test = train_test_split(X, y, test_size = 0.2, random_state = 156, stratify=y)\n",
        "\n",
        "lr_clf = LogisticRegression()\n",
        "lr_clf.fit(X_train, y_train)\n",
        "pred = lr_clf.predict(X_test)\n",
        "\n",
        "pred_proba = lr_clf.predict_proba(X_test)[:,-1]\n",
        "\n",
        "getClfEval(y_test, pred, pred_proba)"
      ],
      "execution_count": 18,
      "outputs": [
        {
          "output_type": "stream",
          "text": [
            "Confusion Matrix\n",
            "[[88 12]\n",
            " [23 31]]\n",
            "Accuracy: 0.7727, Precision: 0.7209, Recall: 0.5741, F1-score: 0.6392, AUC: 0.7919\n"
          ],
          "name": "stdout"
        },
        {
          "output_type": "stream",
          "text": [
            "/usr/local/lib/python3.6/dist-packages/sklearn/linear_model/_logistic.py:940: ConvergenceWarning: lbfgs failed to converge (status=1):\n",
            "STOP: TOTAL NO. of ITERATIONS REACHED LIMIT.\n",
            "\n",
            "Increase the number of iterations (max_iter) or scale the data as shown in:\n",
            "    https://scikit-learn.org/stable/modules/preprocessing.html\n",
            "Please also refer to the documentation for alternative solver options:\n",
            "    https://scikit-learn.org/stable/modules/linear_model.html#logistic-regression\n",
            "  extra_warning_msg=_LOGISTIC_SOLVER_CONVERGENCE_MSG)\n"
          ],
          "name": "stderr"
        }
      ]
    },
    {
      "cell_type": "code",
      "metadata": {
        "id": "Qao_ea9-Qfr0",
        "colab_type": "code",
        "colab": {}
      },
      "source": [
        "# Precision Recall chart"
      ],
      "execution_count": 0,
      "outputs": []
    },
    {
      "cell_type": "code",
      "metadata": {
        "id": "yp0Pt85-PkSz",
        "colab_type": "code",
        "colab": {
          "base_uri": "https://localhost:8080/",
          "height": 388
        },
        "outputId": "62e69a7f-73e6-4f00-a57e-3ab4d64636e3"
      },
      "source": [
        " pred_proba_c1 = lr_clf.predict_proba(X_test)[:,1]\n",
        " precisionRecallCurvePlot(y_test, pred_proba_c1)"
      ],
      "execution_count": 20,
      "outputs": [
        {
          "output_type": "display_data",
          "data": {
            "image/png": "[encoded data removed]",
            "text/plain": [
              "<Figure size 576x432 with 1 Axes>"
            ]
          },
          "metadata": {
            "tags": []
          }
        }
      ]
    },
    {
      "cell_type": "code",
      "metadata": {
        "id": "Cerj6rvkQpHT",
        "colab_type": "code",
        "colab": {}
      },
      "source": [
        "# Quartile Distribution"
      ],
      "execution_count": 0,
      "outputs": []
    },
    {
      "cell_type": "code",
      "metadata": {
        "id": "X4Aw5z13P40M",
        "colab_type": "code",
        "colab": {
          "base_uri": "https://localhost:8080/",
          "height": 297
        },
        "outputId": "21f77c0d-51f0-4fe3-d632-474383fd3369"
      },
      "source": [
        "diabetesData.describe()"
      ],
      "execution_count": 22,
      "outputs": [
        {
          "output_type": "execute_result",
          "data": {
            "text/html": [
              "<div>\n",
              "<style scoped>\n",
              "    .dataframe tbody tr th:only-of-type {\n",
              "        vertical-align: middle;\n",
              "    }\n",
              "\n",
              "    .dataframe tbody tr th {\n",
              "        vertical-align: top;\n",
              "    }\n",
              "\n",
              "    .dataframe thead th {\n",
              "        text-align: right;\n",
              "    }\n",
              "</style>\n",
              "<table border=\"1\" class=\"dataframe\">\n",
              "  <thead>\n",
              "    <tr style=\"text-align: right;\">\n",
              "      <th></th>\n",
              "      <th>Pregnancies</th>\n",
              "      <th>Glucose</th>\n",
              "      <th>BloodPressure</th>\n",
              "      <th>SkinThickness</th>\n",
              "      <th>Insulin</th>\n",
              "      <th>BMI</th>\n",
              "      <th>DiabetesPedigreeFunction</th>\n",
              "      <th>Age</th>\n",
              "      <th>Outcome</th>\n",
              "    </tr>\n",
              "  </thead>\n",
              "  <tbody>\n",
              "    <tr>\n",
              "      <th>count</th>\n",
              "      <td>768.000000</td>\n",
              "      <td>768.000000</td>\n",
              "      <td>768.000000</td>\n",
              "      <td>768.000000</td>\n",
              "      <td>768.000000</td>\n",
              "      <td>768.000000</td>\n",
              "      <td>768.000000</td>\n",
              "      <td>768.000000</td>\n",
              "      <td>768.000000</td>\n",
              "    </tr>\n",
              "    <tr>\n",
              "      <th>mean</th>\n",
              "      <td>3.845052</td>\n",
              "      <td>120.894531</td>\n",
              "      <td>69.105469</td>\n",
              "      <td>20.536458</td>\n",
              "      <td>79.799479</td>\n",
              "      <td>31.992578</td>\n",
              "      <td>0.471876</td>\n",
              "      <td>33.240885</td>\n",
              "      <td>0.348958</td>\n",
              "    </tr>\n",
              "    <tr>\n",
              "      <th>std</th>\n",
              "      <td>3.369578</td>\n",
              "      <td>31.972618</td>\n",
              "      <td>19.355807</td>\n",
              "      <td>15.952218</td>\n",
              "      <td>115.244002</td>\n",
              "      <td>7.884160</td>\n",
              "      <td>0.331329</td>\n",
              "      <td>11.760232</td>\n",
              "      <td>0.476951</td>\n",
              "    </tr>\n",
              "    <tr>\n",
              "      <th>min</th>\n",
              "      <td>0.000000</td>\n",
              "      <td>0.000000</td>\n",
              "      <td>0.000000</td>\n",
              "      <td>0.000000</td>\n",
              "      <td>0.000000</td>\n",
              "      <td>0.000000</td>\n",
              "      <td>0.078000</td>\n",
              "      <td>21.000000</td>\n",
              "      <td>0.000000</td>\n",
              "    </tr>\n",
              "    <tr>\n",
              "      <th>25%</th>\n",
              "      <td>1.000000</td>\n",
              "      <td>99.000000</td>\n",
              "      <td>62.000000</td>\n",
              "      <td>0.000000</td>\n",
              "      <td>0.000000</td>\n",
              "      <td>27.300000</td>\n",
              "      <td>0.243750</td>\n",
              "      <td>24.000000</td>\n",
              "      <td>0.000000</td>\n",
              "    </tr>\n",
              "    <tr>\n",
              "      <th>50%</th>\n",
              "      <td>3.000000</td>\n",
              "      <td>117.000000</td>\n",
              "      <td>72.000000</td>\n",
              "      <td>23.000000</td>\n",
              "      <td>30.500000</td>\n",
              "      <td>32.000000</td>\n",
              "      <td>0.372500</td>\n",
              "      <td>29.000000</td>\n",
              "      <td>0.000000</td>\n",
              "    </tr>\n",
              "    <tr>\n",
              "      <th>75%</th>\n",
              "      <td>6.000000</td>\n",
              "      <td>140.250000</td>\n",
              "      <td>80.000000</td>\n",
              "      <td>32.000000</td>\n",
              "      <td>127.250000</td>\n",
              "      <td>36.600000</td>\n",
              "      <td>0.626250</td>\n",
              "      <td>41.000000</td>\n",
              "      <td>1.000000</td>\n",
              "    </tr>\n",
              "    <tr>\n",
              "      <th>max</th>\n",
              "      <td>17.000000</td>\n",
              "      <td>199.000000</td>\n",
              "      <td>122.000000</td>\n",
              "      <td>99.000000</td>\n",
              "      <td>846.000000</td>\n",
              "      <td>67.100000</td>\n",
              "      <td>2.420000</td>\n",
              "      <td>81.000000</td>\n",
              "      <td>1.000000</td>\n",
              "    </tr>\n",
              "  </tbody>\n",
              "</table>\n",
              "</div>"
            ],
            "text/plain": [
              "       Pregnancies     Glucose  ...         Age     Outcome\n",
              "count   768.000000  768.000000  ...  768.000000  768.000000\n",
              "mean      3.845052  120.894531  ...   33.240885    0.348958\n",
              "std       3.369578   31.972618  ...   11.760232    0.476951\n",
              "min       0.000000    0.000000  ...   21.000000    0.000000\n",
              "25%       1.000000   99.000000  ...   24.000000    0.000000\n",
              "50%       3.000000  117.000000  ...   29.000000    0.000000\n",
              "75%       6.000000  140.250000  ...   41.000000    1.000000\n",
              "max      17.000000  199.000000  ...   81.000000    1.000000\n",
              "\n",
              "[8 rows x 9 columns]"
            ]
          },
          "metadata": {
            "tags": []
          },
          "execution_count": 22
        }
      ]
    },
    {
      "cell_type": "code",
      "metadata": {
        "id": "T0f0GO10Qn99",
        "colab_type": "code",
        "colab": {
          "base_uri": "https://localhost:8080/",
          "height": 337
        },
        "outputId": "4e6080c9-f769-4fb0-a355-ddebe711f56d"
      },
      "source": [
        "plt.hist(diabetesData['Glucose'],bins=10)"
      ],
      "execution_count": 23,
      "outputs": [
        {
          "output_type": "execute_result",
          "data": {
            "text/plain": [
              "(array([  5.,   0.,   4.,  32., 156., 211., 163.,  95.,  56.,  46.]),\n",
              " array([  0. ,  19.9,  39.8,  59.7,  79.6,  99.5, 119.4, 139.3, 159.2,\n",
              "        179.1, 199. ]),\n",
              " <a list of 10 Patch objects>)"
            ]
          },
          "metadata": {
            "tags": []
          },
          "execution_count": 23
        },
        {
          "output_type": "display_data",
          "data": {
            "image/png": "[encoded data removed]",
            "text/plain": [
              "<Figure size 432x288 with 1 Axes>"
            ]
          },
          "metadata": {
            "tags": []
          }
        }
      ]
    },
    {
      "cell_type": "code",
      "metadata": {
        "id": "2IfkwZflRh4_",
        "colab_type": "code",
        "colab": {}
      },
      "source": [
        "# Calculate count & percent from features with 0 value"
      ],
      "execution_count": 0,
      "outputs": []
    },
    {
      "cell_type": "code",
      "metadata": {
        "id": "bw0YqW62VQrx",
        "colab_type": "code",
        "colab": {
          "base_uri": "https://localhost:8080/",
          "height": 107
        },
        "outputId": "863a1bb3-325b-4436-b0ef-abd347a338a1"
      },
      "source": [
        "zeroFeatures = ['Glucose','BloodPressure','SkinThickness','Insulin','BMI']\n",
        "\n",
        "totalCount = float(diabetesData.shape[0])\n",
        "\n",
        "for feature in zeroFeatures:\n",
        "  zeroCount = diabetesData[diabetesData[feature] == 0][feature].count()\n",
        "  print('Feature : {0}\\ value 0 counts {2:.2f} %'.format(feature, zeroCount, 100*(zeroCount / totalCount)  ) )   "
      ],
      "execution_count": 25,
      "outputs": [
        {
          "output_type": "stream",
          "text": [
            "Feature : Glucose\\ value 0 counts 0.65 %\n",
            "Feature : BloodPressure\\ value 0 counts 4.56 %\n",
            "Feature : SkinThickness\\ value 0 counts 29.56 %\n",
            "Feature : Insulin\\ value 0 counts 48.70 %\n",
            "Feature : BMI\\ value 0 counts 1.43 %\n"
          ],
          "name": "stdout"
        }
      ]
    },
    {
      "cell_type": "code",
      "metadata": {
        "id": "oOrX6NkxZnwh",
        "colab_type": "code",
        "colab": {}
      },
      "source": [
        "# Replace 0 value with mean value"
      ],
      "execution_count": 0,
      "outputs": []
    },
    {
      "cell_type": "code",
      "metadata": {
        "id": "CkL1qivqWQVC",
        "colab_type": "code",
        "colab": {}
      },
      "source": [
        "diabetesData[zeroFeatures]=diabetesData[zeroFeatures].replace(0, diabetesData[zeroFeatures].mean())"
      ],
      "execution_count": 0,
      "outputs": []
    },
    {
      "cell_type": "code",
      "metadata": {
        "id": "1XYvakhIZyrx",
        "colab_type": "code",
        "colab": {
          "base_uri": "https://localhost:8080/",
          "height": 89
        },
        "outputId": "73f01cb7-3341-41a4-d375-38213a6d9a13"
      },
      "source": [
        "X = diabetesData.iloc[:,:-1]\n",
        "Y = diabetesData.iloc[:,-1]\n",
        "\n",
        "scaler = StandardScaler()\n",
        "X_scaled = scaler.fit_transform(X)\n",
        "\n",
        "X_train, X_test, y_train, y_test = train_test_split(X_scaled, y, test_size=0.2, random_state=156, stratify=y)\n",
        "\n",
        "lr_clf = LogisticRegression()\n",
        "lr_clf.fit(X_train, y_train)\n",
        "pred = lr_clf.predict(X_test)\n",
        "\n",
        "pred_proba = lr_clf.predict_proba(X_test)[:, 1]\n",
        "getClfEval(y_test, pred, pred_proba)\n"
      ],
      "execution_count": 28,
      "outputs": [
        {
          "output_type": "stream",
          "text": [
            "Confusion Matrix\n",
            "[[90 10]\n",
            " [21 33]]\n",
            "Accuracy: 0.7987, Precision: 0.7674, Recall: 0.6111, F1-score: 0.6804, AUC: 0.8433\n"
          ],
          "name": "stdout"
        }
      ]
    },
    {
      "cell_type": "code",
      "metadata": {
        "id": "2oobKcAUavXo",
        "colab_type": "code",
        "colab": {}
      },
      "source": [
        "#  Changing by classification threshold"
      ],
      "execution_count": 0,
      "outputs": []
    },
    {
      "cell_type": "code",
      "metadata": {
        "id": "JKocCjyXcnj7",
        "colab_type": "code",
        "colab": {}
      },
      "source": [
        "def getEvalByThreslod(y_test, pred_proba_c1, thresholds):\n",
        "  for customThreshold in thresholds:\n",
        "    binarizer = Binarizer(threshold=customThreshold).fit(pred_proba_c1)\n",
        "    customPredict = binarizer.transform(pred_proba_c1)\n",
        "    print('Threshold: ',customThreshold)\n",
        "    getClfEval(y_test, customPredict, pred_proba_c1)"
      ],
      "execution_count": 0,
      "outputs": []
    },
    {
      "cell_type": "code",
      "metadata": {
        "id": "OoRdFjqud6qF",
        "colab_type": "code",
        "colab": {
          "base_uri": "https://localhost:8080/",
          "height": 737
        },
        "outputId": "ce7b37ee-2b1a-40e4-d811-4a1c16a0e258"
      },
      "source": [
        "thresholds = [0.3, 0.33, 0.36, 0.39, 0.42, 0.45, 0.48, 0.5]\n",
        "\n",
        "predProba = lr_clf.predict_proba(X_test)\n",
        " \n",
        "getEvalByThreslod(y_test, predProba[:,1].reshape(-1,1), thresholds)"
      ],
      "execution_count": 33,
      "outputs": [
        {
          "output_type": "stream",
          "text": [
            "Threshold:  0.3\n",
            "Confusion Matrix\n",
            "[[67 33]\n",
            " [11 43]]\n",
            "Accuracy: 0.7143, Precision: 0.5658, Recall: 0.7963, F1-score: 0.6615, AUC: 0.8433\n",
            "Threshold:  0.33\n",
            "Confusion Matrix\n",
            "[[72 28]\n",
            " [12 42]]\n",
            "Accuracy: 0.7403, Precision: 0.6000, Recall: 0.7778, F1-score: 0.6774, AUC: 0.8433\n",
            "Threshold:  0.36\n",
            "Confusion Matrix\n",
            "[[76 24]\n",
            " [15 39]]\n",
            "Accuracy: 0.7468, Precision: 0.6190, Recall: 0.7222, F1-score: 0.6667, AUC: 0.8433\n",
            "Threshold:  0.39\n",
            "Confusion Matrix\n",
            "[[78 22]\n",
            " [16 38]]\n",
            "Accuracy: 0.7532, Precision: 0.6333, Recall: 0.7037, F1-score: 0.6667, AUC: 0.8433\n",
            "Threshold:  0.42\n",
            "Confusion Matrix\n",
            "[[84 16]\n",
            " [18 36]]\n",
            "Accuracy: 0.7792, Precision: 0.6923, Recall: 0.6667, F1-score: 0.6792, AUC: 0.8433\n",
            "Threshold:  0.45\n",
            "Confusion Matrix\n",
            "[[85 15]\n",
            " [18 36]]\n",
            "Accuracy: 0.7857, Precision: 0.7059, Recall: 0.6667, F1-score: 0.6857, AUC: 0.8433\n",
            "Threshold:  0.48\n",
            "Confusion Matrix\n",
            "[[88 12]\n",
            " [19 35]]\n",
            "Accuracy: 0.7987, Precision: 0.7447, Recall: 0.6481, F1-score: 0.6931, AUC: 0.8433\n",
            "Threshold:  0.5\n",
            "Confusion Matrix\n",
            "[[90 10]\n",
            " [21 33]]\n",
            "Accuracy: 0.7987, Precision: 0.7674, Recall: 0.6111, F1-score: 0.6804, AUC: 0.8433\n"
          ],
          "name": "stdout"
        }
      ]
    },
    {
      "cell_type": "code",
      "metadata": {
        "id": "ZFNIo-M3gzsJ",
        "colab_type": "code",
        "colab": {
          "base_uri": "https://localhost:8080/",
          "height": 89
        },
        "outputId": "126de687-6fd8-4864-d08b-c754e05a3631"
      },
      "source": [
        "binarizer = Binarizer(threshold=0.48)\n",
        "\n",
        "predBinar = binarizer.fit_transform( predProba[:,1].reshape(-1,1) )\n",
        "\n",
        "getClfEval(y_test, predBinar, predProba[:,1])"
      ],
      "execution_count": 34,
      "outputs": [
        {
          "output_type": "stream",
          "text": [
            "Confusion Matrix\n",
            "[[88 12]\n",
            " [19 35]]\n",
            "Accuracy: 0.7987, Precision: 0.7447, Recall: 0.6481, F1-score: 0.6931, AUC: 0.8433\n"
          ],
          "name": "stdout"
        }
      ]
    },
    {
      "cell_type": "code",
      "metadata": {
        "id": "Su2YJrihjTCW",
        "colab_type": "code",
        "colab": {}
      },
      "source": [
        ""
      ],
      "execution_count": 0,
      "outputs": []
    }
  ]
}