{
 "cells": [
  {
   "cell_type": "code",
   "execution_count": 52,
   "metadata": {
    "scrolled": false
   },
   "outputs": [
    {
     "name": "stdout",
     "output_type": "stream",
     "text": [
      "   weight  height\n",
      "0    0.45   0.700\n",
      "1    0.72   0.725\n",
      "2    0.61   0.750\n",
      "3    0.56   0.685\n",
      "4    0.48   0.960\n",
      "20000\n",
      "15000\n",
      "5000\n",
      "15000\n",
      "5000\n",
      "<class 'pandas.core.frame.DataFrame'>\n",
      "  predict\n",
      "0  normal\n",
      "1  normal\n",
      "2    thin\n",
      "3     fat\n",
      "4    thin\n"
     ]
    }
   ],
   "source": [
    "from sklearn import svm, metrics\n",
    "from sklearn.model_selection import train_test_split\n",
    "import matplotlib.pyplot as plt\n",
    "import pandas as pd\n",
    "\n",
    "# 키와 몸무게 데이터 읽어 들이기 --- (※1)\n",
    "tbl = pd.read_csv(\"./bmi.csv\")\n",
    "#print(tbl.head())\n",
    "\n",
    "# 칼럼(열)을 자르고 정규화하기 --- (※2)\n",
    "label = tbl[\"label\"]\n",
    "# Normalisation\n",
    "w = tbl[\"weight\"] / 100 # 최대 100kg라고 가정\n",
    "h = tbl[\"height\"] / 200 # 최대 200cm라고 가정\n",
    "wh = pd.concat([w, h], axis=1)\n",
    "print(wh.head())\n",
    "\n",
    "# 디버깅 --- (※2-1)\n",
    "#print(label.head(2))\n",
    "#print(w.head(2))\n",
    "#print(h.head(2))\n",
    "# wh는 즉 feature\n",
    "#print(wh.head(2)) \n",
    "\n",
    "# 학습 전용 데이터(70)와 테스트 전용 데이터(30)로 나누기 --- (※3)\n",
    "data_train, data_test, label_train, label_test = train_test_split(wh, label)\n",
    "# ※과거데이터를 기반으로 한 머신러닝 트레이닝 비중: 0.7 / 0.3\n",
    "\n",
    "# wh => feature\n",
    "# label => answer\n",
    "\n",
    "print(len(wh))\n",
    "print(len(data_train))\n",
    "print(len(data_test))\n",
    "print(len(label_train))\n",
    "print(len(label_test))\n",
    "\n",
    "data_test.to_csv(\"d:/test.csv\")\n",
    "\n",
    "# 데이터 학습하기 --- (※4)\n",
    "model = svm.SVC()\n",
    "\n",
    "model.fit(data_train, label_train)\n",
    "\n",
    "# 데이터 예측하기 --- (※5)\n",
    "#predict = model.predict(data_test)\n",
    "predict = pd.DataFrame(model.predict(data_test))\n",
    "\n",
    "# 예측DF의 타입 확인\n",
    "print(type(predict))\n",
    "\n",
    "# 예측DF에 컬럼명 추가\n",
    "predict.columns = [\"predict\"]\n",
    "print(predict.head())\n",
    "\n",
    "#print(predict.size)\n",
    "\n",
    "#predict.head()\n",
    "\n",
    "\n"
   ]
  },
  {
   "cell_type": "code",
   "execution_count": null,
   "metadata": {},
   "outputs": [],
   "source": []
  },
  {
   "cell_type": "code",
   "execution_count": 29,
   "metadata": {},
   "outputs": [
    {
     "name": "stdout",
     "output_type": "stream",
     "text": [
      "       weight  height\n",
      "16263    0.80   0.975\n",
      "5800     0.67   0.915\n",
      "16263    normal\n",
      "5800     normal\n",
      "Name: label, dtype: object\n",
      "        0\n",
      "0  normal\n",
      "1  normal\n",
      "6000\n",
      "   weight  height   label       0\n",
      "0    0.80   0.975  normal  normal\n",
      "1    0.67   0.915  normal  normal\n",
      "2    0.56   0.770  normal  normal\n",
      "3    0.53   0.725     fat     fat\n",
      "4    0.42   0.935    thin    thin\n",
      "정답률 = 0.9876666666666667\n",
      "리포트 =\n",
      "              precision    recall  f1-score   support\n",
      "\n",
      "        fat       1.00      0.99      0.99      2295\n",
      "     normal       0.96      1.00      0.98      1770\n",
      "       thin       1.00      0.98      0.99      1935\n",
      "\n",
      "avg / total       0.99      0.99      0.99      6000\n",
      "\n"
     ]
    }
   ],
   "source": [
    "print(data_test.head(2))\n",
    "print(label_test.head(2))\n",
    "print(predict.head(2))\n",
    "\n",
    "# DF의 인덱스 번호 초기화 => 정확도 기여\n",
    "r = pd.concat([data_test.reset_index(drop=True), label_test.reset_index(drop=True), predict.reset_index(drop=True)], axis = 1)\n",
    "r.to_csv(\"d:/resultEx.csv\")\n",
    "print(len(r))\n",
    "print(r.head())\n",
    "# 결과 테스트하기 --- (※6)\n",
    "ac_score = metrics.accuracy_score(label_test, predict)\n",
    "cl_report = metrics.classification_report(label_test, predict)\n",
    "\n",
    "print(\"정답률 =\", ac_score)\n",
    "print(\"리포트 =\\n\", cl_report)\n",
    "\n",
    "## 결과 리포트에 대한 수치들은 엑셀파일 참조"
   ]
  },
  {
   "cell_type": "code",
   "execution_count": null,
   "metadata": {},
   "outputs": [],
   "source": []
  }
 ],
 "metadata": {
  "kernelspec": {
   "display_name": "Python 3",
   "language": "python",
   "name": "python3"
  },
  "language_info": {
   "codemirror_mode": {
    "name": "ipython",
    "version": 3
   },
   "file_extension": ".py",
   "mimetype": "text/x-python",
   "name": "python",
   "nbconvert_exporter": "python",
   "pygments_lexer": "ipython3",
   "version": "3.6.4"
  }
 },
 "nbformat": 4,
 "nbformat_minor": 2
}
