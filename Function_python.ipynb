{
 "cells": [
  {
   "cell_type": "markdown",
   "metadata": {},
   "source": [
    "### Basic function"
   ]
  },
  {
   "cell_type": "code",
   "execution_count": 1,
   "metadata": {},
   "outputs": [
    {
     "name": "stdout",
     "output_type": "stream",
     "text": [
      "NETS CAPE\n",
      "NULL SERVICE\n"
     ]
    }
   ],
   "source": [
    "testList = [\"SAMSUNG\",\"NETS CAPE\",\"KAKAO GAME\",\"NAVER\",\"NULL SERVICE\"]\n",
    "\n",
    "for word in range(0,5):\n",
    "    if testList[word][4] != ' ' :\n",
    "        continue\n",
    "    print(testList[word]) \n"
   ]
  },
  {
   "cell_type": "markdown",
   "metadata": {},
   "source": [
    "#### import module and set variable"
   ]
  },
  {
   "cell_type": "code",
   "execution_count": 2,
   "metadata": {},
   "outputs": [
    {
     "name": "stdout",
     "output_type": "stream",
     "text": [
      "[<matplotlib.lines.Line2D object at 0x0000000008B8E0F0>]\n"
     ]
    }
   ],
   "source": [
    "import matplotlib.pyplot as plt\n",
    "import numpy as np\n",
    "x = np.linspace(1,2,11) \n",
    "y =  x ** 5\n",
    "testGraph = plt.plot(x,y)\n",
    "print(testGraph)\n"
   ]
  },
  {
   "cell_type": "code",
   "execution_count": 3,
   "metadata": {},
   "outputs": [
    {
     "name": "stdout",
     "output_type": "stream",
     "text": [
      "[1, 3, 5, 7, 9]\n",
      "['@@', '@@@@@@', '@@@@@@@@@@', '@@@@@@@@@@@@@@', '@@@@@@@@@@@@@@@@@@']\n",
      "@@\n",
      "@@@@\n",
      "@@@@@@\n",
      "@@@@@@@@\n",
      "@@@@@@@@@@\n",
      "@@@@@@@@@@@@\n",
      "@@@@@@@@@@@@@@\n",
      "@@@@@@@@@@@@@@@@\n",
      "@@@@@@@@@@@@@@@@@@\n",
      "@@@@@@@@@@@@@@@@@@@@\n"
     ]
    }
   ],
   "source": [
    "testOne = [(i) for i in range(1,10,2)]\n",
    "k = \"*\"\n",
    "testTwo = [((k+k)*\"@\") for k in range(1,11,2)]\n",
    "# print(type(testOne))\n",
    "print(testOne)\n",
    "print(testTwo)\n",
    "\n",
    "for j in range(1,11):\n",
    "    alpha=((j*\"@\")+(j*\"@\"))\n",
    "    print(alpha)   \n"
   ]
  },
  {
   "cell_type": "markdown",
   "metadata": {},
   "source": [
    "#### IF ,ELIF statemenet"
   ]
  },
  {
   "cell_type": "code",
   "execution_count": 5,
   "metadata": {},
   "outputs": [
    {
     "name": "stdout",
     "output_type": "stream",
     "text": [
      "A\n"
     ]
    }
   ],
   "source": [
    "#  if문 과 elif문\n",
    "score = 99\n",
    "\n",
    "if score > 99:\n",
    "    print(\"GRADUATION\")\n",
    "elif score > 89:\n",
    "    print(\"A\")  \n",
    "    \n",
    "# 파이썬만 가능한 조건식///     \n",
    "elif 85< score <= 89:\n",
    "    print(\"B+\")\n",
    "elif 85>= score > 79:\n",
    "    print(\"B\")    \n",
    "#//////////////////////////      \n",
    "\n",
    "elif score > 69:\n",
    "    print(\"C\")\n",
    "else:\n",
    "    print(\"RE-test\")"
   ]
  },
  {
   "cell_type": "code",
   "execution_count": 6,
   "metadata": {},
   "outputs": [
    {
     "name": "stdout",
     "output_type": "stream",
     "text": [
      "8 곱셈\n",
      "8 * 1 = 8\n",
      "8 * 2 = 16\n",
      "8 * 3 = 24\n",
      "8 * 4 = 32\n",
      "8 * 5 = 40\n",
      "8 * 6 = 48\n",
      "8 * 7 = 56\n",
      "8 * 8 = 64\n"
     ]
    }
   ],
   "source": [
    "# list 와 이중 for문 복합 사용\n",
    "\n",
    "newList = [(i) for i in range(1,10)]\n",
    "# newList = [1,2,3,4,5,6,7,8,]\n",
    "# len(리스트 변수명)-1 : 리스트자료 안의 마지막 입력값 선택\n",
    "\n",
    "for n in [len(newList)-1]:\n",
    "    print(\"{0} 곱셈\".format(n))\n",
    "    for k in [(i) for i in range(1,9)]:\n",
    "        print(\"{0} * {1} = {2}\".format(n,k,n*k))"
   ]
  },
  {
   "cell_type": "markdown",
   "metadata": {},
   "source": [
    "#### DICTIONARY: KEYS, VALUES,ITEMS"
   ]
  },
  {
   "cell_type": "code",
   "execution_count": 7,
   "metadata": {},
   "outputs": [
    {
     "name": "stdout",
     "output_type": "stream",
     "text": [
      "A01\n",
      "A02\n",
      "A03\n",
      "KOR\n",
      "USA\n",
      "INDIA\n",
      "A01 KOR\n",
      "A02 USA\n",
      "A03 INDIA\n",
      "{'Kim': 1, 'Smith': 2, 'Hamish': 3, 'Singh': 4, 'Markus': 5}\n",
      "{'Kim': None, 'Smith': None, 'Hamish': None, 'Singh': None, 'Markus': None}\n"
     ]
    }
   ],
   "source": [
    "# DICTIONARY 함수들 \n",
    "\n",
    "codeParam = {\"A01\":\"KOR\",\"A02\":\"USA\",\"A03\":\"INDIA\"}\n",
    "\n",
    "\n",
    "# for문으로 DICTIONARY의 KEY값만 추출\n",
    "for k in codeParam.keys():\n",
    "    print(k)\n",
    "\n",
    "# for문으로 DICTIONARY의 VALUE값만 추출\n",
    "for v in codeParam.values():\n",
    "    print(v)\n",
    "\n",
    "# for문으로 DICTIONARY의 VALUE값만 추출\n",
    "for k,v in codeParam.items():\n",
    "    print(k,v)\n",
    "    \n",
    "\n",
    "# DICTIONARY 함수들 2    \n",
    "keyName = [\"Kim\",\"Smith\",\"Hamish\",\"Singh\",\"Markus\"]\n",
    "rank = [(i) for i in range(1,6)]\n",
    "\n",
    "#  zip함수로 독립적인 LIST 자료들을 합침 \n",
    "newDict1 = dict(zip(keyName,rank))\n",
    "print(newDict1)\n",
    "\n",
    "#  리스트안의 데이터를 KEY값으로 고정시킨후 DICTIONARY로 전환\n",
    "x= {key: value for key, value in dict.fromkeys(keyName).items()  }\n",
    "print(x)\n"
   ]
  },
  {
   "cell_type": "markdown",
   "metadata": {},
   "source": [
    "#### FOR loop"
   ]
  },
  {
   "cell_type": "code",
   "execution_count": 8,
   "metadata": {},
   "outputs": [
    {
     "name": "stdout",
     "output_type": "stream",
     "text": [
      "3\n",
      "2\n"
     ]
    }
   ],
   "source": [
    "list = [3,2,5,4,6,7]\n",
    "\n",
    "# if문 조건을 만나면 멈춘다\n",
    "for i in list :\n",
    "    if i > 4:\n",
    "        break\n",
    "    print(i)  "
   ]
  },
  {
   "cell_type": "code",
   "execution_count": 9,
   "metadata": {},
   "outputs": [
    {
     "name": "stdout",
     "output_type": "stream",
     "text": [
      "3\n",
      "5\n",
      "7\n"
     ]
    }
   ],
   "source": [
    "#  if문 조건을 충족하는 것은 계속수행. 나머지는 출력\n",
    "for i in list:\n",
    "    if i % 2 == 0:\n",
    "        continue\n",
    "    print(i)    "
   ]
  },
  {
   "cell_type": "markdown",
   "metadata": {},
   "source": [
    "#### WHILE loop"
   ]
  },
  {
   "cell_type": "code",
   "execution_count": 19,
   "metadata": {},
   "outputs": [
    {
     "name": "stdout",
     "output_type": "stream",
     "text": [
      "1\n",
      "2\n",
      "3\n",
      "4\n",
      "5\n",
      "6\n",
      "7\n",
      "8\n",
      "9\n",
      "10\n"
     ]
    }
   ],
   "source": [
    "#  while은 변수의 우측에 있는 조건문이 만족할때까지 계속 연산\n",
    "\n",
    "i = 1\n",
    "while i <= 10:\n",
    "    print(i)  \n",
    "    i = i + 1"
   ]
  },
  {
   "cell_type": "markdown",
   "metadata": {},
   "source": [
    "#### INPUT function: 사용자 입력 받기"
   ]
  },
  {
   "cell_type": "code",
   "execution_count": 20,
   "metadata": {},
   "outputs": [
    {
     "name": "stdout",
     "output_type": "stream",
     "text": [
      "num1 is :2\n",
      "2\n",
      "num2 is :4\n",
      "4\n"
     ]
    },
    {
     "data": {
      "text/plain": [
       "16"
      ]
     },
     "execution_count": 20,
     "metadata": {},
     "output_type": "execute_result"
    }
   ],
   "source": [
    "# input 함수사용; 데이터프레임에서 특정 로우의 데이터를 찾을때 활용\n",
    "x = int(input(\"num1 is :\"))\n",
    "print(int(x))\n",
    "\n",
    "y = int(input(\"num2 is :\"))\n",
    "print(int(y))\n",
    "\n",
    "# LAMBDA함수와 INPUT함수 복합\n",
    "multiply = (lambda x,y:x**y)\n",
    "multiply(x,y)"
   ]
  },
  {
   "cell_type": "code",
   "execution_count": null,
   "metadata": {},
   "outputs": [],
   "source": []
  }
 ],
 "metadata": {
  "kernelspec": {
   "display_name": "Python 3",
   "language": "python",
   "name": "python3"
  },
  "language_info": {
   "codemirror_mode": {
    "name": "ipython",
    "version": 3
   },
   "file_extension": ".py",
   "mimetype": "text/x-python",
   "name": "python",
   "nbconvert_exporter": "python",
   "pygments_lexer": "ipython3",
   "version": "3.6.4"
  }
 },
 "nbformat": 4,
 "nbformat_minor": 2
}
